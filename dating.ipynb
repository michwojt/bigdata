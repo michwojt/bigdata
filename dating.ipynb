{
  "metadata": {
    "kernelspec": {
      "display_name": "R",
      "language": "R",
      "name": "ir"
    },
    "language_info": {
      "codemirror_mode": "r",
      "file_extension": ".r",
      "mimetype": "text/x-r-source",
      "name": "R",
      "pygments_lexer": "r",
      "version": "3.3.3"
    }
  },
  "nbformat": 4,
  "nbformat_minor": 0,
  "cells": [
    {
      "cell_type": "markdown",
      "source": "![enter image description here][1]\n\n**1. Introduction**\n===================\n\n\n  [1]: https://farm1.staticflickr.com/26/53529136_b13be27270_z_d.jpg?zz=1",
      "metadata": {}
    },
    {
      "cell_type": "markdown",
      "source": "The goal of this kernel is to learn more about the most popular men and women on speed dating events. Who are these people? What do they like? How do they spend their time? \n\nI also want to know more about people who are not desired on the dating market. What is the difference between them and popular men and women?\n\n**2. Preparing data**\n=====================\n\nI created a new variable which measures in percentage how often a partner of a subject wanted to have a second date with him or her. ",
      "metadata": {}
    },
    {
      "cell_type": "code",
      "source": "library(ggplot2)\nDating = read.csv(\"../input/Speed Dating Data.csv\")\n\n#Creating a column with a number of dates of a subject\nFreq = table(Dating$iid)\nFreq = data.frame(Freq)\nnames(Freq)= c(\"iid\", \"NumOfDates\")\nDating = merge(Dating, Freq, by = \"iid\")\n\n#Creating a column informing in percentage how often a subject was chosen by a partner for a \n#second date\nPop = aggregate(Dating$dec, list(Dating$pid), sum)\nnames(Pop)= c(\"iid\", \"Popular\")\nDating = merge(Dating, Pop, by = \"iid\")\nDating$PoPRel = Dating$Popular/Dating$NumOfDates * 100\n\n#Replacing codes of races by string descriptions\nDating$race[Dating$race==1] = \"African\"\nDating$race[Dating$race==2] = \"European\"\nDating$race[Dating$race==3] = \"Latino\"\nDating$race[Dating$race==4] = \"Asian\"\nDating$race[Dating$race==5] = \"Native\"\nDating$race[Dating$race==6] = \"Other\"\n\n#Creating a subsets with only men and women\nMan = subset(Dating, gender == 1)\nWoman = subset(Dating, gender == 0)\n\n#Getting rid of duplicates\nWoman = Woman[order(Woman$PoPRel, decreasing = TRUE),]\nindex <- which(duplicated(Woman$iid))\nWoman = Woman[-index,]\n\nMan = Man[order(Man$PoPRel,decreasing = TRUE),]\nindex <- which(duplicated(Man$iid))\nMan = Man[-index,]",
      "execution_count": null,
      "outputs": [],
      "metadata": {}
    },
    {
      "cell_type": "markdown",
      "source": "Man and women see other sex in a different way. Because of that I decided to split data on two subsets and analyze them separately.",
      "metadata": {}
    },
    {
      "cell_type": "code",
      "source": "################\n#Difference of popularity between men and women\n\n#Men\ndatalabel = Man\ndatahist = datalabel$PoPRel\nmaxhist = 100\nminhist = 0\n\nggplot(data = datalabel, aes(datahist), size = 0.2)+\n  geom_histogram(breaks = seq (minhist, maxhist, by = 10),\n    col = \"red\",\n    fill = \"green\",\n    alpha = .2)+\n  labs(title=\"Popularity of men among women\")+\n  labs(x = \"How often (in %) a female parten wanted to have a second data\", y = \"Count\")+\n  scale_x_continuous(limits = c(minhist, maxhist), breaks = seq(minhist, maxhist, 10))\n\n#Women\ndatalabel = Woman\ndatahist = datalabel$PoPRel\nmaxhist = 100\nminhist = 0\n\nggplot(data = datalabel, aes(datahist))+\n  geom_histogram(breaks = seq (minhist, maxhist, by = 10),\n                 col = \"red\",\n                 fill = \"green\",\n                 alpha = .2)+\n  labs(title=\"Popularity of women among men\")+\n  labs(x = \"How often (in %) a male parten wanted to have a second data\", y = \"Count\")+\n  scale_x_continuous(limits = c(minhist, maxhist), breaks = seq(minhist, maxhist, 10))",
      "execution_count": null,
      "outputs": [],
      "metadata": {}
    },
    {
      "cell_type": "markdown",
      "source": "Popularity of women among men is similar to normal distribution: there are few women which are very popular and unpopular. Most of them have medium popularity. \n\nOn the other hand there are very few popular man, many unpopular and most of them have low popularity. \n\n3. Women\n---------\nI divided women on 3 subsets because of their popularity. ",
      "metadata": {}
    },
    {
      "cell_type": "code",
      "source": "#Dividing women on subsets because of their popularity\nTopWoman = Woman[-c(seq(28,274,1)),]\nBottomWoman = Woman[-c(seq(1,247,1)),]\nCommonWoman = Woman[-c(seq(248,274,1)),]\nCommonWoman = CommonWoman[-c(seq(1,27,1)),]",
      "execution_count": null,
      "outputs": [],
      "metadata": {}
    },
    {
      "cell_type": "markdown",
      "source": "Top 10% women with the highest popularity (between 80% and 100%) are in TopWoman subset. \n\nBottom 10% women with the lowest popularity (between 0% and 17%) are in BottomWoman subset. \n\nThe rest of women with medium popularity (between 17% and 80%) are in CommonWoman subset. ",
      "metadata": {}
    },
    {
      "cell_type": "markdown",
      "source": "\n**Race**",
      "metadata": {}
    },
    {
      "cell_type": "code",
      "source": "###############################\n#Race overview\n\nbarplot(prop.table(table(TopWoman$race)), main=\"Race of a Top Woman\")\nbarplot(prop.table(table(BottomWoman$race)), main=\"Race of a Bottom Woman\")\nbarplot(prop.table(table(CommonWoman$race)), main=\"Race of a Common Woman\")",
      "execution_count": null,
      "outputs": [],
      "metadata": {}
    },
    {
      "cell_type": "markdown",
      "source": "The biggest difference between subsets is in the proportion of Asian women. \n\nIn TopWoman Asian is only third among the most numerous races. \n\nIn BottomWoman Asian is the most numerous race (in TopWoman and Common Woman the most numerous race is European). \n\nIn CommonWoman Asian is second among the most numerous races. ",
      "metadata": {}
    },
    {
      "cell_type": "markdown",
      "source": "**Field of study**",
      "metadata": {}
    },
    {
      "cell_type": "code",
      "source": "###############################\n#Field overview\n\nbarplot(prop.table(table(TopWoman$field_cd)), main=\"Field of a Top Woman\", \n        legend.text = c(\"3 - Social Science, Psychologist\", \n        \"8 - Business/Economy/Finance\", \"9 - Education, Academia \"\n        ), args.legend = list(text.width = 3.3, xjust = 1, cex = 0.58), ylab = \"Frequency\")\nbarplot(prop.table(table(BottomWoman$field_cd)), main=\"Field of a Bottom Woman\", \n        legend.text = c(\"3 - Social Science, Psychologist\", \n        \"8 - Business/Economy/Finance\", \"9 - Education, Academia \"\n        ), args.legend = list(text.width = 3.3, xjust = 1, cex = 0.58), ylab = \"Frequency\")\nbarplot(prop.table(table(CommonWoman$field_cd)), main=\"Field of a Common Woman\", , \n        legend.text = c(\"3 - Social Science, Psychologist\", \n        \"8 - Business/Economy/Finance\", \"9 - Education, Academia \"\n        ), args.legend = list(text.width = 5.5, xjust = 1, cex = 0.58), ylab = \"Frequency\")",
      "execution_count": null,
      "outputs": [],
      "metadata": {}
    },
    {
      "cell_type": "markdown",
      "source": "TopWomen usually study fields connected with Business and Finance (none of women from BottomWoman subset  studied these fields). \n\nBottomWomen usually study fields connected with Education. \n\nCommonWomen usually study fields connected with Social Sciences (but Education  and Business are also popular).",
      "metadata": {}
    },
    {
      "cell_type": "markdown",
      "source": "**Intended career**",
      "metadata": {}
    },
    {
      "cell_type": "code",
      "source": "###############################\n#Career overview\n\nbarplot(prop.table(table(TopWoman$career_c)), main=\"Intended career of a Top Woman\", \n        legend.text = c(\"1 -  Lawyer\" , \"2 - Academic/Research\",\n        \"7 - Banking/Consulting/Finance \\n Marketing/Business/CEO/Entrepreneur/Admin \", \n        \"9 - International/Humanitarian Affairs \"\n        ), args.legend = list(text.width = 4.2, xjust = 0.8, cex = 0.58), ylab = \"Frequency\")\nbarplot(prop.table(table(BottomWoman$career_c)), main=\"Intended career of a Bottom Woman\", \n        legend.text = c(\"1 -  Lawyer\" , \"2 - Academic/Research\",\n        \"7 - Banking/Consulting/Finance \\n Marketing/Business/CEO/Entrepreneur/Admin \", \n        \"9 - International/Humanitarian Affairs \"\n        ), args.legend = list(text.width = 4.7, xjust = 1, cex = 0.58), ylab = \"Frequency\")\nbarplot(prop.table(table(CommonWoman$career_c)), main=\"Intended career of a Common Woman\", , \n        legend.text = c(\"1 -  Lawyer\" , \"2 - Academic/Research\",\n        \"7 - Banking/Consulting/Finance \\n Marketing/Business/CEO/Entrepreneur/Admin \", \n        \"9 - International/Humanitarian Affairs \"\n        ), args.legend = list(text.width = 7, xjust = 1.2, cex = 0.58), ylab = \"Frequency\")",
      "execution_count": null,
      "outputs": [],
      "metadata": {}
    },
    {
      "cell_type": "markdown",
      "source": "TopWomen usually want to work in business, law and human affair. Academic is only fourth intended career path.\n\nOn the other hand CommonWomen and BottomWomen definitely prefer working in Academic/Research. ",
      "metadata": {}
    },
    {
      "cell_type": "markdown",
      "source": "**Goal**\n\nWhat is a primary goal in participating in a speed dating event? ",
      "metadata": {}
    },
    {
      "cell_type": "code",
      "source": "###############################\n#Goals overview\n\nbarplot(prop.table(table(TopWoman$goal)), main=\"Goal of a Top Woman\", \n        legend.text = c(\"1 -  Fun night out\" , \"2 - Meeting new people\"\n        ), args.legend = list(text.width = 1.5, xjust = 1, cex = 0.58), ylab = \"Frequency\")\nbarplot(prop.table(table(BottomWoman$goal)), main=\"Goal of a Bottom Woman\", \n        legend.text = c(\"1 -  Fun night out\" , \"2 - Meeting new people\"\n        ), args.legend = list(text.width = 2, xjust = 1, cex = 0.58), ylab = \"Frequency\")\nbarplot(prop.table(table(CommonWoman$goal)), main=\"Goal of a Common Woman\",  \n        legend.text = c(\"1 -  Fun night out\" , \"2 - Meeting new people\"\n        ), args.legend = list(text.width = 2, xjust = 1, cex = 0.58), ylab = \"Frequency\")",
      "execution_count": null,
      "outputs": [],
      "metadata": {}
    },
    {
      "cell_type": "markdown",
      "source": "TopWomen are mostly focused on having fun. \n\nBottomWomen are significantly focused on fun but most of them want to meet new people. \n\nCommon Woman want to have fun and meet new people.",
      "metadata": {}
    },
    {
      "cell_type": "markdown",
      "source": "**Going out**\n\nHow often do women go out? ",
      "metadata": {}
    },
    {
      "cell_type": "code",
      "source": "###############################\n#Going out overview\n\nbarplot(prop.table(table(TopWoman$go_out)), main=\"How often a Top Woman go out\", \n        legend.text = c(\"1 -  Several times a week\" , \"2 - Twice a week\", \"3 - Once a week\"\n        ), args.legend = list(text.width = 0.8, xjust = 1, cex = 0.58), ylab = \"Frequency\")\nbarplot(prop.table(table(BottomWoman$go_out)), main=\"How often a Bottom Woman go out\", \n        legend.text = c(\"1 -  Several times a week\" , \"2 - Twice a week\", \"3 - Once a week\"\n        ), args.legend = list(text.width = 1.2, xjust = 0.8, cex = 0.58), ylab = \"Frequency\")\nbarplot(prop.table(table(CommonWoman$go_out)), main=\"How often a Common Woman go out\",  \n        legend.text = c(\"1 -  Several times a week\" , \"2 - Twice a week\", \"3 - Once a week\"\n        ), args.legend = list(text.width = 2, xjust = 1, cex = 0.58), ylab = \"Frequency\")",
      "execution_count": null,
      "outputs": [],
      "metadata": {}
    },
    {
      "cell_type": "markdown",
      "source": "TopWomen more often go out than CommonWomen. CommonWomen more often go out than BottomWomen. It looks that going out is positively correlated with populartiy. ",
      "metadata": {}
    },
    {
      "cell_type": "markdown",
      "source": "**Age**",
      "metadata": {}
    },
    {
      "cell_type": "code",
      "source": "x = matrix(c(quantile(TopWoman$age, na.rm = TRUE)[1], \n    quantile(TopWoman$age, na.rm = TRUE)[2], quantile(TopWoman$age, na.rm = TRUE)[3],\n    round(mean(na.omit(TopWoman$age)), digits = 2), \n    quantile(TopWoman$age, na.rm = TRUE)[4], quantile(TopWoman$age, na.rm = TRUE)[5],\n    quantile(BottomWoman$age, na.rm = TRUE)[1], \n    quantile(BottomWoman$age, na.rm = TRUE)[2], quantile(BottomWoman$age, na.rm = TRUE)[3],\n    round(mean(na.omit(BottomWoman$age)), digits = 2), \n    quantile(BottomWoman$age, na.rm = TRUE)[4], quantile(BottomWoman$age, na.rm = TRUE)[5],\n    quantile(CommonWoman$age, na.rm = TRUE)[1], \n    quantile(CommonWoman$age, na.rm = TRUE)[2], quantile(CommonWoman$age, na.rm = TRUE)[3],\n    round(mean(na.omit(CommonWoman$age)), digits = 2), \n    quantile(CommonWoman$age, na.rm = TRUE)[4], quantile(CommonWoman$age, na.rm = TRUE)[5]\n    ), ncol = 6, byrow = TRUE)\n\ncolnames(x) = c(\"Min\", \"1st Quantile\", \"Median\", \"Mean\", \"3rd Quantile\", \"Max\")\nrownames(x) = c(\"TopWoman\", \"BottomWoman\", \"CommonWoman\")\n\nx",
      "execution_count": null,
      "outputs": [],
      "metadata": {}
    },
    {
      "cell_type": "markdown",
      "source": "Young women (below 30 years) are in all 3 subsets. \n\nMedium age women (between 30 and 40 years) are only among BottomWomen and CommonWomen.\n\nWomen above 40 years are only among BottomWomen.",
      "metadata": {}
    },
    {
      "cell_type": "markdown",
      "source": "**Imprace**\n\nHow important is it for a woman (on a scale of 1-10) that a person she dates be of the same racial/ethnic background?",
      "metadata": {}
    },
    {
      "cell_type": "code",
      "source": "x = matrix(c(quantile(TopWoman$imprace, na.rm = TRUE)[1], \n             quantile(TopWoman$imprace, na.rm = TRUE)[2], quantile(TopWoman$imprace, na.rm = TRUE)[3],\n             round(mean(na.omit(TopWoman$sports)), digits = 2), \n             quantile(TopWoman$imprace, na.rm = TRUE)[4], quantile(TopWoman$imprace, na.rm = TRUE)[5],\n             quantile(BottomWoman$imprace, na.rm = TRUE)[1], \n             quantile(BottomWoman$imprace, na.rm = TRUE)[2], quantile(BottomWoman$imprace, na.rm = TRUE)[3],\n             round(mean(na.omit(BottomWoman$sports)), digits = 2), \n             quantile(BottomWoman$imprace, na.rm = TRUE)[4], quantile(BottomWoman$imprace, na.rm = TRUE)[5],\n             quantile(CommonWoman$imprace, na.rm = TRUE)[1], \n             quantile(CommonWoman$imprace, na.rm = TRUE)[2], quantile(CommonWoman$imprace, na.rm = TRUE)[3],\n             round(mean(na.omit(CommonWoman$sports)), digits = 2), \n             quantile(CommonWoman$imprace, na.rm = TRUE)[4], quantile(CommonWoman$imprace, na.rm = TRUE)[5]\n), ncol = 6, byrow = TRUE)\n\ncolnames(x) = c(\"Min\", \"1st Quantile\", \"Median\", \"Mean\", \"3rd Quantile\", \"Max\")\nrownames(x) = c(\"TopWoman\", \"BottomWoman\", \"CommonWoman\")\n\nx",
      "execution_count": null,
      "outputs": [],
      "metadata": {}
    },
    {
      "cell_type": "markdown",
      "source": "TopWoman has much lower median and 3rd quartile than BottomWoman and CommonWoman. It seems that women who are less conservative about the race of their partner are more popular among men. ",
      "metadata": {}
    },
    {
      "cell_type": "markdown",
      "source": "**Imprelig**\n\nHow important is it for a woman (on a scale of 1-10) that a person she dates be of the same religious background?",
      "metadata": {}
    },
    {
      "cell_type": "code",
      "source": "x = matrix(c(quantile(TopWoman$imprelig, na.rm = TRUE)[1], \n             quantile(TopWoman$imprelig, na.rm = TRUE)[2], quantile(TopWoman$imprelig, na.rm = TRUE)[3],\n             round(mean(na.omit(TopWoman$sports)), digits = 2), \n             quantile(TopWoman$imprelig, na.rm = TRUE)[4], quantile(TopWoman$imprelig, na.rm = TRUE)[5],\n             quantile(BottomWoman$imprelig, na.rm = TRUE)[1], \n             quantile(BottomWoman$imprelig, na.rm = TRUE)[2], quantile(BottomWoman$imprelig, na.rm = TRUE)[3],\n             round(mean(na.omit(BottomWoman$sports)), digits = 2), \n             quantile(BottomWoman$imprelig, na.rm = TRUE)[4], quantile(BottomWoman$imprelig, na.rm = TRUE)[5],\n             quantile(CommonWoman$imprelig, na.rm = TRUE)[1], \n             quantile(CommonWoman$imprelig, na.rm = TRUE)[2], quantile(CommonWoman$imprelig, na.rm = TRUE)[3],\n             round(mean(na.omit(CommonWoman$sports)), digits = 2), \n             quantile(CommonWoman$imprelig, na.rm = TRUE)[4], quantile(CommonWoman$imprelig, na.rm = TRUE)[5]\n), ncol = 6, byrow = TRUE)\n\ncolnames(x) = c(\"Min\", \"1st Quantile\", \"Median\", \"Mean\", \"3rd Quantile\", \"Max\")\nrownames(x) = c(\"TopWoman\", \"BottomWoman\", \"CommonWoman\")\n\nx",
      "execution_count": null,
      "outputs": [],
      "metadata": {}
    },
    {
      "cell_type": "markdown",
      "source": "TopWoman has much lower median and 3rd quartile than BottomWoman and CommonWoman. It seems that women who are less conservative about the religion of their partner are more popular among men. ",
      "metadata": {}
    },
    {
      "cell_type": "markdown",
      "source": "Interests\n---------\nHow interested are women in the following activities, on a scale of 1-10?\n\n\n**Sports**",
      "metadata": {}
    },
    {
      "cell_type": "code",
      "source": "x = matrix(c(quantile(TopWoman$sports, na.rm = TRUE)[1], \n             quantile(TopWoman$sports, na.rm = TRUE)[2], quantile(TopWoman$sports, na.rm = TRUE)[3],\n             round(mean(na.omit(TopWoman$sports)), digits = 2), \n             quantile(TopWoman$sports, na.rm = TRUE)[4], quantile(TopWoman$sports, na.rm = TRUE)[5],\n             quantile(BottomWoman$sports, na.rm = TRUE)[1], \n             quantile(BottomWoman$sports, na.rm = TRUE)[2], quantile(BottomWoman$sports, na.rm = TRUE)[3],\n             round(mean(na.omit(BottomWoman$sports)), digits = 2), \n             quantile(BottomWoman$sports, na.rm = TRUE)[4], quantile(BottomWoman$sports, na.rm = TRUE)[5],\n             quantile(CommonWoman$sports, na.rm = TRUE)[1], \n             quantile(CommonWoman$sports, na.rm = TRUE)[2], quantile(CommonWoman$sports, na.rm = TRUE)[3],\n             round(mean(na.omit(CommonWoman$sports)), digits = 2), \n             quantile(CommonWoman$sports, na.rm = TRUE)[4], quantile(CommonWoman$sports, na.rm = TRUE)[5]\n), ncol = 6, byrow = TRUE)\n\ncolnames(x) = c(\"Min\", \"1st Quantile\", \"Median\", \"Mean\", \"3rd Quantile\", \"Max\")\nrownames(x) = c(\"TopWoman\", \"BottomWoman\", \"CommonWoman\")\n\nx",
      "execution_count": null,
      "outputs": [],
      "metadata": {}
    },
    {
      "cell_type": "markdown",
      "source": "Women which practice sport are more popular (because it improves their appearance, I guess). ",
      "metadata": {}
    },
    {
      "cell_type": "markdown",
      "source": "**Exercise**",
      "metadata": {}
    },
    {
      "cell_type": "code",
      "source": "x = matrix(c(quantile(TopWoman$exercise, na.rm = TRUE)[1], \n             quantile(TopWoman$exercise, na.rm = TRUE)[2], quantile(TopWoman$exercise, na.rm = TRUE)[3],\n             round(mean(na.omit(TopWoman$exercise)), digits = 2), \n             quantile(TopWoman$exercise, na.rm = TRUE)[4], quantile(TopWoman$exercise, na.rm = TRUE)[5],\n             quantile(BottomWoman$exercise, na.rm = TRUE)[1], \n             quantile(BottomWoman$exercise, na.rm = TRUE)[2], quantile(BottomWoman$exercise, na.rm = TRUE)[3],\n             round(mean(na.omit(BottomWoman$exercise)), digits = 2), \n             quantile(BottomWoman$exercise, na.rm = TRUE)[4], quantile(BottomWoman$exercise, na.rm = TRUE)[5],\n             quantile(CommonWoman$exercise, na.rm = TRUE)[1], \n             quantile(CommonWoman$exercise, na.rm = TRUE)[2], quantile(CommonWoman$exercise, na.rm = TRUE)[3],\n             round(mean(na.omit(CommonWoman$exercise)), digits = 2), \n             quantile(CommonWoman$exercise, na.rm = TRUE)[4], quantile(CommonWoman$exercise, na.rm = TRUE)[5]\n), ncol = 6, byrow = TRUE)\n\ncolnames(x) = c(\"Min\", \"1st Quantile\", \"Median\", \"Mean\", \"3rd Quantile\", \"Max\")\nrownames(x) = c(\"TopWoman\", \"BottomWoman\", \"CommonWoman\")\n\nx",
      "execution_count": null,
      "outputs": [],
      "metadata": {}
    },
    {
      "cell_type": "markdown",
      "source": "TopWomen and CommonWomen has almost the same parameters. But BottomWomen exercise less. Hence women which exercise are more popular (because it improves their appearance, I guess).",
      "metadata": {}
    },
    {
      "cell_type": "markdown",
      "source": "**Art**",
      "metadata": {}
    },
    {
      "cell_type": "code",
      "source": "x = matrix(c(quantile(TopWoman$art, na.rm = TRUE)[1], \n             quantile(TopWoman$art, na.rm = TRUE)[2], quantile(TopWoman$art, na.rm = TRUE)[3],\n             round(mean(na.omit(TopWoman$art)), digits = 2), \n             quantile(TopWoman$art, na.rm = TRUE)[4], quantile(TopWoman$art, na.rm = TRUE)[5],\n             quantile(BottomWoman$art, na.rm = TRUE)[1], \n             quantile(BottomWoman$art, na.rm = TRUE)[2], quantile(BottomWoman$art, na.rm = TRUE)[3],\n             round(mean(na.omit(BottomWoman$art)), digits = 2), \n             quantile(BottomWoman$art, na.rm = TRUE)[4], quantile(BottomWoman$art, na.rm = TRUE)[5],\n             quantile(CommonWoman$art, na.rm = TRUE)[1], \n             quantile(CommonWoman$art, na.rm = TRUE)[2], quantile(CommonWoman$art, na.rm = TRUE)[3],\n             round(mean(na.omit(CommonWoman$art)), digits = 2), \n             quantile(CommonWoman$art, na.rm = TRUE)[4], quantile(CommonWoman$art, na.rm = TRUE)[5]\n), ncol = 6, byrow = TRUE)\n\ncolnames(x) = c(\"Min\", \"1st Quantile\", \"Median\", \"Mean\", \"3rd Quantile\", \"Max\")\nrownames(x) = c(\"TopWoman\", \"BottomWoman\", \"CommonWoman\")\n\nx",
      "execution_count": null,
      "outputs": [],
      "metadata": {}
    },
    {
      "cell_type": "markdown",
      "source": "TopWomen and BottomWomen like art less than CommonWomen. Women with inordinate popularity like art less than an average woman. ",
      "metadata": {}
    },
    {
      "cell_type": "markdown",
      "source": "**TV**",
      "metadata": {}
    },
    {
      "cell_type": "code",
      "source": "x = matrix(c(quantile(TopWoman$tv, na.rm = TRUE)[1], \n             quantile(TopWoman$tv, na.rm = TRUE)[2], quantile(TopWoman$tv, na.rm = TRUE)[3],\n             round(mean(na.omit(TopWoman$tv)), digits = 2), \n             quantile(TopWoman$tv, na.rm = TRUE)[4], quantile(TopWoman$tv, na.rm = TRUE)[5],\n             quantile(BottomWoman$tv, na.rm = TRUE)[1], \n             quantile(BottomWoman$tv, na.rm = TRUE)[2], quantile(BottomWoman$tv, na.rm = TRUE)[3],\n             round(mean(na.omit(BottomWoman$tv)), digits = 2), \n             quantile(BottomWoman$tv, na.rm = TRUE)[4], quantile(BottomWoman$tv, na.rm = TRUE)[5],\n             quantile(CommonWoman$tv, na.rm = TRUE)[1], \n             quantile(CommonWoman$tv, na.rm = TRUE)[2], quantile(CommonWoman$tv, na.rm = TRUE)[3],\n             round(mean(na.omit(CommonWoman$tv)), digits = 2), \n             quantile(CommonWoman$tv, na.rm = TRUE)[4], quantile(CommonWoman$tv, na.rm = TRUE)[5]\n), ncol = 6, byrow = TRUE)\n\ncolnames(x) = c(\"Min\", \"1st Quantile\", \"Median\", \"Mean\", \"3rd Quantile\", \"Max\")\nrownames(x) = c(\"TopWoman\", \"BottomWoman\", \"CommonWoman\")\n\nx",
      "execution_count": null,
      "outputs": [],
      "metadata": {}
    },
    {
      "cell_type": "markdown",
      "source": "TopWomen like watching tv less than BottomWomen and CommonWomen. Popular women spend less time on watching tv than other women (probably because they have more occasions to hang out).",
      "metadata": {}
    },
    {
      "cell_type": "markdown",
      "source": "**Concerts**",
      "metadata": {}
    },
    {
      "cell_type": "code",
      "source": "x = matrix(c(quantile(TopWoman$concerts, na.rm = TRUE)[1], \n             quantile(TopWoman$concerts, na.rm = TRUE)[2], quantile(TopWoman$concerts, na.rm = TRUE)[3],\n             round(mean(na.omit(TopWoman$concerts)), digits = 2), \n             quantile(TopWoman$concerts, na.rm = TRUE)[4], quantile(TopWoman$concerts, na.rm = TRUE)[5],\n             quantile(BottomWoman$concerts, na.rm = TRUE)[1], \n             quantile(BottomWoman$concerts, na.rm = TRUE)[2], quantile(BottomWoman$concerts, na.rm = TRUE)[3],\n             round(mean(na.omit(BottomWoman$concerts)), digits = 2), \n             quantile(BottomWoman$concerts, na.rm = TRUE)[4], quantile(BottomWoman$concerts, na.rm = TRUE)[5],\n             quantile(CommonWoman$concerts, na.rm = TRUE)[1], \n             quantile(CommonWoman$concerts, na.rm = TRUE)[2], quantile(CommonWoman$concerts, na.rm = TRUE)[3],\n             round(mean(na.omit(CommonWoman$concerts)), digits = 2), \n             quantile(CommonWoman$concerts, na.rm = TRUE)[4], quantile(CommonWoman$concerts, na.rm = TRUE)[5]\n), ncol = 6, byrow = TRUE)\n\ncolnames(x) = c(\"Min\", \"1st Quantile\", \"Median\", \"Mean\", \"3rd Quantile\", \"Max\")\nrownames(x) = c(\"TopWoman\", \"BottomWoman\", \"CommonWoman\")\n\nx",
      "execution_count": null,
      "outputs": [],
      "metadata": {}
    },
    {
      "cell_type": "markdown",
      "source": " Popular women like concerts less than other women. ",
      "metadata": {}
    },
    {
      "cell_type": "markdown",
      "source": "**Yoga**",
      "metadata": {}
    },
    {
      "cell_type": "code",
      "source": "x = matrix(c(quantile(TopWoman$yoga, na.rm = TRUE)[1], \n             quantile(TopWoman$yoga, na.rm = TRUE)[2], quantile(TopWoman$yoga, na.rm = TRUE)[3],\n             round(mean(na.omit(TopWoman$yoga)), digits = 2), \n             quantile(TopWoman$yoga, na.rm = TRUE)[4], quantile(TopWoman$yoga, na.rm = TRUE)[5],\n             quantile(BottomWoman$yoga, na.rm = TRUE)[1], \n             quantile(BottomWoman$yoga, na.rm = TRUE)[2], quantile(BottomWoman$yoga, na.rm = TRUE)[3],\n             round(mean(na.omit(BottomWoman$yoga)), digits = 2), \n             quantile(BottomWoman$yoga, na.rm = TRUE)[4], quantile(BottomWoman$yoga, na.rm = TRUE)[5],\n             quantile(CommonWoman$yoga, na.rm = TRUE)[1], \n             quantile(CommonWoman$yoga, na.rm = TRUE)[2], quantile(CommonWoman$yoga, na.rm = TRUE)[3],\n             round(mean(na.omit(CommonWoman$yoga)), digits = 2), \n             quantile(CommonWoman$yoga, na.rm = TRUE)[4], quantile(CommonWoman$yoga, na.rm = TRUE)[5]\n), ncol = 6, byrow = TRUE)\n\ncolnames(x) = c(\"Min\", \"1st Quantile\", \"Median\", \"Mean\", \"3rd Quantile\", \"Max\")\nrownames(x) = c(\"TopWoman\", \"BottomWoman\", \"CommonWoman\")\n\nx",
      "execution_count": null,
      "outputs": [],
      "metadata": {}
    },
    {
      "cell_type": "markdown",
      "source": "TopWomen like yoga more than CommonWomen who like it more than BottomWomen. It looks that liking yoga is positively correlated with popularity. ",
      "metadata": {}
    },
    {
      "cell_type": "markdown",
      "source": "**Does a woman feel special?**\n\nI created a new variable which measures a difference between what a woman looks for in the opposite sex (for six characteristics) and what in her opinion search other women. I think that it measures how much a woman feels special (different from other women).  ",
      "metadata": {}
    },
    {
      "cell_type": "code",
      "source": "#I remove data from waves 6-9 because there were different rules of scoring\nTopWoman = subset(TopWoman, wave > 9 | wave <6)\nBottomWoman = subset(BottomWoman, wave > 9 | wave <6)\nCommonWoman = subset(CommonWoman, wave > 9 | wave <6)\n\n#Creating a new variables which measures how a woman feels special\nTopWoman$SpecialAtr = abs(TopWoman$attr1_1-TopWoman$attr4_1)\nTopWoman$SpecialSinc = abs(TopWoman$sinc1_1-TopWoman$sinc4_1)\nTopWoman$SpecialIntel = abs(TopWoman$intel1_1-TopWoman$intel4_1)\nTopWoman$SpecialAmb = abs(TopWoman$amb1_1-TopWoman$amb4_1)\nTopWoman$SpecialFun = abs(TopWoman$fun1_1-TopWoman$fun4_1)\nTopWoman$SpecialShar = abs(TopWoman$shar1_1-TopWoman$shar4_1)\n#Estimating mean from all six characteristics\nTopWoman$SpecialAv = (TopWoman$SpecialAtr+TopWoman$SpecialSinc+TopWoman$SpecialIntel+\n        TopWoman$SpecialAmb+TopWoman$SpecialFun+TopWoman$SpecialShar)/6\n\n#The same calculations for BottomWoman\nBottomWoman$SpecialAtr = abs(BottomWoman$attr1_1-BottomWoman$attr4_1)\nBottomWoman$SpecialSinc = abs(BottomWoman$sinc1_1-BottomWoman$sinc4_1)\nBottomWoman$SpecialIntel = abs(BottomWoman$intel1_1-BottomWoman$intel4_1)\nBottomWoman$SpecialAmb = abs(BottomWoman$amb1_1-BottomWoman$amb4_1)\nBottomWoman$SpecialFun = abs(BottomWoman$fun1_1-BottomWoman$fun4_1)\nBottomWoman$SpecialShar = abs(BottomWoman$shar1_1-BottomWoman$shar4_1)\nBottomWoman$SpecialAv = (BottomWoman$SpecialAtr+BottomWoman$SpecialSinc+BottomWoman$SpecialIntel+\n                           BottomWoman$SpecialAmb+BottomWoman$SpecialFun+BottomWoman$SpecialShar)/6\n\n#The same calculations for CommonWoman\nCommonWoman$SpecialAtr = abs(CommonWoman$attr1_1-CommonWoman$attr4_1)\nCommonWoman$SpecialSinc = abs(CommonWoman$sinc1_1-CommonWoman$sinc4_1)\nCommonWoman$SpecialIntel = abs(CommonWoman$intel1_1-CommonWoman$intel4_1)\nCommonWoman$SpecialAmb = abs(CommonWoman$amb1_1-CommonWoman$amb4_1)\nCommonWoman$SpecialFun = abs(CommonWoman$fun1_1-CommonWoman$fun4_1)\nCommonWoman$SpecialShar = abs(CommonWoman$shar1_1-CommonWoman$shar4_1)\nCommonWoman$SpecialAv = (CommonWoman$SpecialAtr+CommonWoman$SpecialSinc+CommonWoman$SpecialIntel+\n                           CommonWoman$SpecialAmb+CommonWoman$SpecialFun+CommonWoman$SpecialShar)/6\n\nx = matrix(c(quantile(TopWoman$SpecialAv, na.rm = TRUE)[1], \n             quantile(TopWoman$SpecialAv, na.rm = TRUE)[2], quantile(TopWoman$SpecialAv, na.rm = TRUE)[3],\n             round(mean(na.omit(TopWoman$SpecialAv)), digits = 2), \n             quantile(TopWoman$SpecialAv, na.rm = TRUE)[4], quantile(TopWoman$SpecialAv, na.rm = TRUE)[5],\n             quantile(BottomWoman$SpecialAv, na.rm = TRUE)[1], \n             quantile(BottomWoman$SpecialAv, na.rm = TRUE)[2], quantile(BottomWoman$SpecialAv, na.rm = TRUE)[3],\n             round(mean(na.omit(BottomWoman$SpecialAv)), digits = 2), \n             quantile(BottomWoman$SpecialAv, na.rm = TRUE)[4], quantile(BottomWoman$SpecialAv, na.rm = TRUE)[5],\n             quantile(CommonWoman$SpecialAv, na.rm = TRUE)[1], \n             quantile(CommonWoman$SpecialAv, na.rm = TRUE)[2], quantile(CommonWoman$SpecialAv, na.rm = TRUE)[3],\n             round(mean(na.omit(CommonWoman$SpecialAv)), digits = 2), \n             quantile(CommonWoman$SpecialAv, na.rm = TRUE)[4], quantile(CommonWoman$SpecialAv, na.rm = TRUE)[5]\n), ncol = 6, byrow = TRUE)\n\ncolnames(x) = c(\"Min\", \"1st Quantile\", \"Median\", \"Mean\", \"3rd Quantile\", \"Max\")\nrownames(x) = c(\"TopWoman\", \"BottomWoman\", \"CommonWoman\")\n\nx",
      "execution_count": null,
      "outputs": [],
      "metadata": {}
    },
    {
      "cell_type": "markdown",
      "source": "TopWomen feel more special than CommonWomen who feel more special than BottomWomen.",
      "metadata": {}
    },
    {
      "cell_type": "markdown",
      "source": "Conclusions\n===========",
      "metadata": {}
    },
    {
      "cell_type": "markdown",
      "source": "Popular women are \n\n - below 30ties\n - usually aren't Asian\n - work in business\n - often go out\n - want to have fun on speed dating meetings\n - are less conservative about race and religion of their partner\n - exercise and practice sport\n - have more interesting things to do than watching tv\n - do not like concerts very much\n - like yoga and feel special.\n\nOn the other hand unpopular women usually are \n\n - Asian can be over 30 and 40\n - work in Academic or Research\n - want to meet new people on speed dating events\n - are less sociable than popular women\n - are more conservative about race and religion of their partner\n - do not enjoy exercising and sport\n - do not mind watching tv\n - like concerts and do not feel special",
      "metadata": {}
    },
    {
      "cell_type": "markdown",
      "source": "**4. Men**\n---",
      "metadata": {}
    },
    {
      "cell_type": "markdown",
      "source": "I divided men on 3 subsets because of their popularity. ",
      "metadata": {}
    },
    {
      "cell_type": "code",
      "source": "#Dividing men on subsets because of their popularity\nTopMan = Man[-c(seq(28,277,1)),]\nBottomMan = Man[-c(seq(1,250,1)),]\nCommonMan = Man[-c(seq(251,277,1)),]\nCommonMan = CommonMan[-c(seq(1,27,1)),]",
      "execution_count": null,
      "outputs": [],
      "metadata": {}
    },
    {
      "cell_type": "markdown",
      "source": "Top 10% Men with the highest popularity (between 70% and 94%) are in TopMan subset. \n\nBottom 10% Men with the lowest popularity (between 0% and 7%) are in BottomMen subset. \n\nThe rest of Men with medium popularity (between 7% and 70%) are in CommonMen subset. \n\n\n**Race**",
      "metadata": {}
    },
    {
      "cell_type": "code",
      "source": "###############################\n#Race overview\n\nbarplot(prop.table(table(TopMan$race)), main=\"Race of a Top Man\")\nbarplot(prop.table(table(BottomMan$race)), main=\"Race of a Bottom Man\")\nbarplot(prop.table(table(CommonMan$race)), main=\"Race of a Common Man\")",
      "execution_count": null,
      "outputs": [],
      "metadata": {}
    },
    {
      "cell_type": "markdown",
      "source": "Most of TopMen are European.\n\n40% of BottomMen are Asian (20% of CommonMen and almost none of TopMen). ",
      "metadata": {}
    },
    {
      "cell_type": "markdown",
      "source": "**Field of study**",
      "metadata": {}
    },
    {
      "cell_type": "code",
      "source": "###############################\n#Field overview\n\nbarplot(prop.table(table(TopMan$field_cd)), main=\"Field of a Top Man\", \n        legend.text = c(\"8 - Business/Economy/Finance\"\n        ), args.legend = list(text.width = 3.3, xjust = 1, cex = 0.58), ylab = \"Frequency\")\nbarplot(prop.table(table(BottomMan$field_cd)), main=\"Field of a Bottom Man\", \n        legend.text = c(\"8 - Business/Economy/Finance\" \n        ), args.legend = list(text.width = 2.5, xjust = 0.7, cex = 0.58), ylab = \"Frequency\")\nbarplot(prop.table(table(CommonMan$field_cd)), main=\"Field of a Common Man\", , \n        legend.text = c(\"8 - Business/Economy/Finance\" \n        ), args.legend = list(text.width = 5.5, xjust = 1, cex = 0.58), ylab = \"Frequency\")",
      "execution_count": null,
      "outputs": [],
      "metadata": {}
    },
    {
      "cell_type": "markdown",
      "source": "50% of TopMen study Business/Economy/Finance and only 35% in other groups.  ",
      "metadata": {}
    },
    {
      "cell_type": "markdown",
      "source": "**Intended career**",
      "metadata": {}
    },
    {
      "cell_type": "code",
      "source": "###############################\n#Career overview\n\nbarplot(prop.table(table(TopMan$career_c)), main=\"Intended career of a Top Man\", \n        legend.text = c(\"2 - Academic/Research\",\n        \"7 - Banking/Consulting/Finance \\n Marketing/Business/CEO/Entrepreneur/Admin \"\n        ), args.legend = list(text.width = 3.3, xjust = 2.5, cex = 0.58), ylab = \"Frequency\")\nbarplot(prop.table(table(BottomMan$career_c)), main=\"Intended career of a Bottom Man\", ylab = \"Frequency\")\nbarplot(prop.table(table(CommonMan$career_c)), main=\"Intended career of a Common Man\", , \n        legend.text = c(\"2 - Academic/Research\",\n        \"7 - Banking/Consulting/Finance \\n Marketing/Business/CEO/Entrepreneur/Admin \"\n        ), args.legend = list(text.width = 7, xjust = 1, cex = 0.58), ylab = \"Frequency\")",
      "execution_count": null,
      "outputs": [],
      "metadata": {}
    },
    {
      "cell_type": "markdown",
      "source": "The only significant difference is the higher percentage of men who want to work in Academic/Research among BottomMen (around 40%) than in two other groups (around 20%).",
      "metadata": {}
    },
    {
      "cell_type": "markdown",
      "source": "**Goal**\n\nWhat is a primary goal in participating in a speed dating event? ",
      "metadata": {}
    },
    {
      "cell_type": "code",
      "source": "###############################\n#Goals overview\n\nbarplot(prop.table(table(TopWoman$goal)), main=\"Goal of a Top Man\", \n        legend.text = c(\"1 -  Fun night out\" , \"2 - Meeting new people\"\n        ), args.legend = list(text.width = 1.5, xjust = 1, cex = 0.58), ylab = \"Frequency\")\nbarplot(prop.table(table(BottomWoman$goal)), main=\"Goal of a Bottom Man\", \n        legend.text = c(\"1 -  Fun night out\" , \"2 - Meeting new people\"\n        ), args.legend = list(text.width = 2, xjust = 1, cex = 0.58), ylab = \"Frequency\")\nbarplot(prop.table(table(CommonWoman$goal)), main=\"Goal of a Common Man\",  \n        legend.text = c(\"1 -  Fun night out\" , \"2 - Meeting new people\"\n        ), args.legend = list(text.width = 2, xjust = 1, cex = 0.58), ylab = \"Frequency\")",
      "execution_count": null,
      "outputs": [],
      "metadata": {}
    },
    {
      "cell_type": "markdown",
      "source": "TopMen are more fun oriented. \n\nBottomMen take dating more seriously. ",
      "metadata": {}
    },
    {
      "cell_type": "markdown",
      "source": "Interests\n---------\nHow interested are men in the following activities, on a scale of 1-10?\n\n\n**Sports**",
      "metadata": {}
    },
    {
      "cell_type": "code",
      "source": "x = matrix(c(quantile(TopMan$sports, na.rm = TRUE)[1], \n             quantile(TopMan$sports, na.rm = TRUE)[2], quantile(TopMan$sports, na.rm = TRUE)[3],\n             round(mean(na.omit(TopMan$sports)), digits = 2), \n             quantile(TopMan$sports, na.rm = TRUE)[4], quantile(TopMan$sports, na.rm = TRUE)[5],\n             quantile(BottomMan$sports, na.rm = TRUE)[1], \n             quantile(BottomMan$sports, na.rm = TRUE)[2], quantile(BottomMan$sports, na.rm = TRUE)[3],\n             round(mean(na.omit(BottomMan$sports)), digits = 2), \n             quantile(BottomMan$sports, na.rm = TRUE)[4], quantile(BottomMan$sports, na.rm = TRUE)[5],\n             quantile(CommonMan$sports, na.rm = TRUE)[1], \n             quantile(CommonMan$sports, na.rm = TRUE)[2], quantile(CommonMan$sports, na.rm = TRUE)[3],\n             round(mean(na.omit(CommonMan$sports)), digits = 2), \n             quantile(CommonMan$sports, na.rm = TRUE)[4], quantile(CommonMan$sports, na.rm = TRUE)[5]\n), ncol = 6, byrow = TRUE)\n\ncolnames(x) = c(\"Min\", \"1st Quantile\", \"Median\", \"Mean\", \"3rd Quantile\", \"Max\")\nrownames(x) = c(\"TopMan\", \"BottomMan\", \"CommonMan\")\n\nx",
      "execution_count": null,
      "outputs": [],
      "metadata": {}
    },
    {
      "cell_type": "markdown",
      "source": "BottomMen are less interested in sport than other men.",
      "metadata": {}
    },
    {
      "cell_type": "markdown",
      "source": "**Exercise**",
      "metadata": {}
    },
    {
      "cell_type": "code",
      "source": "x = matrix(c(quantile(TopMan$exercise, na.rm = TRUE)[1], \n             quantile(TopMan$exercise, na.rm = TRUE)[2], quantile(TopMan$exercise, na.rm = TRUE)[3],\n             round(mean(na.omit(TopMan$exercise)), digits = 2), \n             quantile(TopMan$exercise, na.rm = TRUE)[4], quantile(TopMan$exercise, na.rm = TRUE)[5],\n             quantile(BottomMan$exercise, na.rm = TRUE)[1], \n             quantile(BottomMan$exercise, na.rm = TRUE)[2], quantile(BottomMan$exercise, na.rm = TRUE)[3],\n             round(mean(na.omit(BottomMan$exercise)), digits = 2), \n             quantile(BottomMan$exercise, na.rm = TRUE)[4], quantile(BottomMan$exercise, na.rm = TRUE)[5],\n             quantile(CommonMan$exercise, na.rm = TRUE)[1], \n             quantile(CommonMan$exercise, na.rm = TRUE)[2], quantile(CommonMan$exercise, na.rm = TRUE)[3],\n             round(mean(na.omit(CommonMan$exercise)), digits = 2), \n             quantile(CommonMan$exercise, na.rm = TRUE)[4], quantile(CommonMan$exercise, na.rm = TRUE)[5]\n), ncol = 6, byrow = TRUE)\n\ncolnames(x) = c(\"Min\", \"1st Quantile\", \"Median\", \"Mean\", \"3rd Quantile\", \"Max\")\nrownames(x) = c(\"TopMan\", \"BottomMan\", \"CommonMan\")\n\nx",
      "execution_count": null,
      "outputs": [],
      "metadata": {}
    },
    {
      "cell_type": "markdown",
      "source": "TopMen exercise significantly more than CommonMen.\n\nBottomMen exercise a little bit less than CommonMen.",
      "metadata": {}
    },
    {
      "cell_type": "markdown",
      "source": "**Dining**",
      "metadata": {}
    },
    {
      "cell_type": "code",
      "source": "x = matrix(c(quantile(TopMan$dining, na.rm = TRUE)[1], \n             quantile(TopMan$dining, na.rm = TRUE)[2], quantile(TopMan$dining, na.rm = TRUE)[3],\n             round(mean(na.omit(TopMan$dining)), digits = 2), \n             quantile(TopMan$dining, na.rm = TRUE)[4], quantile(TopMan$dining, na.rm = TRUE)[5],\n             quantile(BottomMan$dining, na.rm = TRUE)[1], \n             quantile(BottomMan$dining, na.rm = TRUE)[2], quantile(BottomMan$dining, na.rm = TRUE)[3],\n             round(mean(na.omit(BottomMan$dining)), digits = 2), \n             quantile(BottomMan$dining, na.rm = TRUE)[4], quantile(BottomMan$dining, na.rm = TRUE)[5],\n             quantile(CommonMan$dining, na.rm = TRUE)[1], \n             quantile(CommonMan$dining, na.rm = TRUE)[2], quantile(CommonMan$dining, na.rm = TRUE)[3],\n             round(mean(na.omit(CommonMan$dining)), digits = 2), \n             quantile(CommonMan$dining, na.rm = TRUE)[4], quantile(CommonMan$dining, na.rm = TRUE)[5]\n), ncol = 6, byrow = TRUE)\n\ncolnames(x) = c(\"Min\", \"1st Quantile\", \"Median\", \"Mean\", \"3rd Quantile\", \"Max\")\nrownames(x) = c(\"TopMan\", \"BottomMan\", \"CommonMan\")\n\nx",
      "execution_count": null,
      "outputs": [],
      "metadata": {}
    },
    {
      "cell_type": "markdown",
      "source": "TopMen like dining more than other men.",
      "metadata": {}
    },
    {
      "cell_type": "markdown",
      "source": "**Clubbing**",
      "metadata": {}
    },
    {
      "cell_type": "code",
      "source": "x = matrix(c(quantile(TopMan$clubbing, na.rm = TRUE)[1], \n             quantile(TopMan$clubbing, na.rm = TRUE)[2], quantile(TopMan$clubbing, na.rm = TRUE)[3],\n             round(mean(na.omit(TopMan$clubbing)), digits = 2), \n             quantile(TopMan$clubbing, na.rm = TRUE)[4], quantile(TopMan$clubbing, na.rm = TRUE)[5],\n             quantile(BottomMan$clubbing, na.rm = TRUE)[1], \n             quantile(BottomMan$clubbing, na.rm = TRUE)[2], quantile(BottomMan$clubbing, na.rm = TRUE)[3],\n             round(mean(na.omit(BottomMan$clubbing)), digits = 2), \n             quantile(BottomMan$clubbing, na.rm = TRUE)[4], quantile(BottomMan$clubbing, na.rm = TRUE)[5],\n             quantile(CommonMan$clubbing, na.rm = TRUE)[1], \n             quantile(CommonMan$clubbing, na.rm = TRUE)[2], quantile(CommonMan$clubbing, na.rm = TRUE)[3],\n             round(mean(na.omit(CommonMan$clubbing)), digits = 2), \n             quantile(CommonMan$clubbing, na.rm = TRUE)[4], quantile(CommonMan$clubbing, na.rm = TRUE)[5]\n), ncol = 6, byrow = TRUE)\n\ncolnames(x) = c(\"Min\", \"1st Quantile\", \"Median\", \"Mean\", \"3rd Quantile\", \"Max\")\nrownames(x) = c(\"TopMan\", \"BottomMan\", \"CommonMan\")\n\nx",
      "execution_count": null,
      "outputs": [],
      "metadata": {}
    },
    {
      "cell_type": "markdown",
      "source": "Top Men like clubbing more than CommonMen.\n\nBottomMen like clubbing less than CommonMen.\n",
      "metadata": {}
    },
    {
      "cell_type": "markdown",
      "source": "**TV**",
      "metadata": {}
    },
    {
      "cell_type": "code",
      "source": "x = matrix(c(quantile(TopMan$tv, na.rm = TRUE)[1], \n             quantile(TopMan$tv, na.rm = TRUE)[2], quantile(TopMan$tv, na.rm = TRUE)[3],\n             round(mean(na.omit(TopMan$tv)), digits = 2), \n             quantile(TopMan$tv, na.rm = TRUE)[4], quantile(TopMan$tv, na.rm = TRUE)[5],\n             quantile(BottomMan$tv, na.rm = TRUE)[1], \n             quantile(BottomMan$tv, na.rm = TRUE)[2], quantile(BottomMan$tv, na.rm = TRUE)[3],\n             round(mean(na.omit(BottomMan$tv)), digits = 2), \n             quantile(BottomMan$tv, na.rm = TRUE)[4], quantile(BottomMan$tv, na.rm = TRUE)[5],\n             quantile(CommonMan$tv, na.rm = TRUE)[1], \n             quantile(CommonMan$tv, na.rm = TRUE)[2], quantile(CommonMan$tv, na.rm = TRUE)[3],\n             round(mean(na.omit(CommonMan$tv)), digits = 2), \n             quantile(CommonMan$tv, na.rm = TRUE)[4], quantile(CommonMan$tv, na.rm = TRUE)[5]\n), ncol = 6, byrow = TRUE)\n\ncolnames(x) = c(\"Min\", \"1st Quantile\", \"Median\", \"Mean\", \"3rd Quantile\", \"Max\")\nrownames(x) = c(\"TopMan\", \"BottomMan\", \"CommonMan\")\n\nx",
      "execution_count": null,
      "outputs": [],
      "metadata": {}
    },
    {
      "cell_type": "markdown",
      "source": "TopMen like watching tv less than other men. ",
      "metadata": {}
    },
    {
      "cell_type": "markdown",
      "source": "**Concerts**",
      "metadata": {}
    },
    {
      "cell_type": "code",
      "source": "x = matrix(c(quantile(TopMan$concerts, na.rm = TRUE)[1], \n             quantile(TopMan$concerts, na.rm = TRUE)[2], quantile(TopMan$concerts, na.rm = TRUE)[3],\n             round(mean(na.omit(TopMan$concerts)), digits = 2), \n             quantile(TopMan$concerts, na.rm = TRUE)[4], quantile(TopMan$concerts, na.rm = TRUE)[5],\n             quantile(BottomMan$concerts, na.rm = TRUE)[1], \n             quantile(BottomMan$concerts, na.rm = TRUE)[2], quantile(BottomMan$concerts, na.rm = TRUE)[3],\n             round(mean(na.omit(BottomMan$concerts)), digits = 2), \n             quantile(BottomMan$concerts, na.rm = TRUE)[4], quantile(BottomMan$concerts, na.rm = TRUE)[5],\n             quantile(CommonMan$concerts, na.rm = TRUE)[1], \n             quantile(CommonMan$concerts, na.rm = TRUE)[2], quantile(CommonMan$concerts, na.rm = TRUE)[3],\n             round(mean(na.omit(CommonMan$concerts)), digits = 2), \n             quantile(CommonMan$concerts, na.rm = TRUE)[4], quantile(CommonMan$concerts, na.rm = TRUE)[5]\n), ncol = 6, byrow = TRUE)\n\ncolnames(x) = c(\"Min\", \"1st Quantile\", \"Median\", \"Mean\", \"3rd Quantile\", \"Max\")\nrownames(x) = c(\"TopMan\", \"BottomMan\", \"CommonMan\")\n\nx",
      "execution_count": null,
      "outputs": [],
      "metadata": {}
    },
    {
      "cell_type": "markdown",
      "source": "TopMen like concerts a little bit more than other men.",
      "metadata": {}
    },
    {
      "cell_type": "markdown",
      "source": "**Yoga**",
      "metadata": {}
    },
    {
      "cell_type": "code",
      "source": "x = matrix(c(quantile(TopMan$yoga, na.rm = TRUE)[1], \n             quantile(TopMan$yoga, na.rm = TRUE)[2], quantile(TopMan$yoga, na.rm = TRUE)[3],\n             round(mean(na.omit(TopMan$yoga)), digits = 2), \n             quantile(TopMan$yoga, na.rm = TRUE)[4], quantile(TopMan$yoga, na.rm = TRUE)[5],\n             quantile(BottomMan$yoga, na.rm = TRUE)[1], \n             quantile(BottomMan$yoga, na.rm = TRUE)[2], quantile(BottomMan$yoga, na.rm = TRUE)[3],\n             round(mean(na.omit(BottomMan$yoga)), digits = 2), \n             quantile(BottomMan$yoga, na.rm = TRUE)[4], quantile(BottomMan$yoga, na.rm = TRUE)[5],\n             quantile(CommonMan$yoga, na.rm = TRUE)[1], \n             quantile(CommonMan$yoga, na.rm = TRUE)[2], quantile(CommonMan$yoga, na.rm = TRUE)[3],\n             round(mean(na.omit(CommonMan$yoga)), digits = 2), \n             quantile(CommonMan$yoga, na.rm = TRUE)[4], quantile(CommonMan$yoga, na.rm = TRUE)[5]\n), ncol = 6, byrow = TRUE)\n\ncolnames(x) = c(\"Min\", \"1st Quantile\", \"Median\", \"Mean\", \"3rd Quantile\", \"Max\")\nrownames(x) = c(\"TopMan\", \"BottomMan\", \"CommonMan\")\n\nx",
      "execution_count": null,
      "outputs": [],
      "metadata": {}
    },
    {
      "cell_type": "markdown",
      "source": "TopMen like yoga more than other men.\n",
      "metadata": {}
    },
    {
      "cell_type": "markdown",
      "source": "Conclusions\n===========",
      "metadata": {}
    },
    {
      "cell_type": "markdown",
      "source": "Popular man is \n\n - European\n - studies Business\n - treats speed dating as a fun event\n - likes sports and exercising\n - is more social (likes clubbing and dining, does not enjoy watching\n   tv)\n - and has more femine interest (concerts, yoga) than other men\n\nUnpopular man is \n\n - European or Asian\n - does not like physical activity\n - and is less social.\n\n ",
      "metadata": {}
    }
  ]
}